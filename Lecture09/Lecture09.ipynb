{
 "cells": [
  {
   "cell_type": "code",
   "execution_count": 1,
   "metadata": {},
   "outputs": [
    {
     "name": "stdout",
     "output_type": "stream",
     "text": [
      "Hello, world!\n",
      "What is your name?\n",
      "Sadhan\n",
      "It is good to meet you, Sadhan\n",
      "The lenght of your name is 6\n",
      "What is your age?\n",
      "28\n",
      "You will be 29 next year.\n"
     ]
    }
   ],
   "source": [
    "# This program says hello and asks for your name\n",
    "\n",
    "print('Hello, world!')\n",
    "print('What is your name?') # ask for their name \n",
    "myName = input()\n",
    "print('It is good to meet you, ' + myName)\n",
    "print('The lenght of your name is ' + str(len(myName)))\n",
    "print('What is your age?') # ask for their age\n",
    "myAge = input()\n",
    "print('You will be ' + str(int(myAge) + 1) + ' next year.')"
   ]
  },
  {
   "cell_type": "code",
   "execution_count": null,
   "metadata": {},
   "outputs": [],
   "source": []
  }
 ],
 "metadata": {
  "kernelspec": {
   "display_name": "Python 3",
   "language": "python",
   "name": "python3"
  },
  "language_info": {
   "codemirror_mode": {
    "name": "ipython",
    "version": 3
   },
   "file_extension": ".py",
   "mimetype": "text/x-python",
   "name": "python",
   "nbconvert_exporter": "python",
   "pygments_lexer": "ipython3",
   "version": "3.8.3"
  }
 },
 "nbformat": 4,
 "nbformat_minor": 4
}
